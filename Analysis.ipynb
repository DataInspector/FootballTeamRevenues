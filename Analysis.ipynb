{
 "cells": [
  {
   "cell_type": "code",
   "execution_count": 1,
   "metadata": {
    "ExecuteTime": {
     "end_time": "2019-05-07T15:16:46.811431Z",
     "start_time": "2019-05-07T15:16:44.673Z"
    }
   },
   "outputs": [
    {
     "name": "stderr",
     "output_type": "stream",
     "text": [
      "Loading required package: ggplot2\n",
      "Registered S3 methods overwritten by 'ggplot2':\n",
      "  method         from \n",
      "  [.quosures     rlang\n",
      "  c.quosures     rlang\n",
      "  print.quosures rlang\n",
      "Registered S3 method overwritten by 'rvest':\n",
      "  method            from\n",
      "  read_xml.response xml2\n",
      "── \u001b[1mAttaching packages\u001b[22m ─────────────────────────────────────── tidyverse 1.2.1 ──\n",
      "\u001b[32m✔\u001b[39m \u001b[34mtibble \u001b[39m 2.1.1       \u001b[32m✔\u001b[39m \u001b[34mpurrr  \u001b[39m 0.3.2  \n",
      "\u001b[32m✔\u001b[39m \u001b[34mtidyr  \u001b[39m 0.8.3       \u001b[32m✔\u001b[39m \u001b[34mdplyr  \u001b[39m 0.8.0.\u001b[31m1\u001b[39m\n",
      "\u001b[32m✔\u001b[39m \u001b[34mreadr  \u001b[39m 1.3.1       \u001b[32m✔\u001b[39m \u001b[34mstringr\u001b[39m 1.4.0  \n",
      "\u001b[32m✔\u001b[39m \u001b[34mtibble \u001b[39m 2.1.1       \u001b[32m✔\u001b[39m \u001b[34mforcats\u001b[39m 0.4.0  \n",
      "── \u001b[1mConflicts\u001b[22m ────────────────────────────────────────── tidyverse_conflicts() ──\n",
      "\u001b[31m✖\u001b[39m \u001b[34mdplyr\u001b[39m::\u001b[32mfilter()\u001b[39m  masks \u001b[34mstats\u001b[39m::filter()\n",
      "\u001b[31m✖\u001b[39m \u001b[34mpurrr\u001b[39m::\u001b[32mflatten()\u001b[39m masks \u001b[34mjsonlite\u001b[39m::flatten()\n",
      "\u001b[31m✖\u001b[39m \u001b[34mdplyr\u001b[39m::\u001b[32mlag()\u001b[39m     masks \u001b[34mstats\u001b[39m::lag()\n"
     ]
    }
   ],
   "source": [
    "library(gganimate)\n",
    "library(tidyverse)"
   ]
  },
  {
   "cell_type": "code",
   "execution_count": 2,
   "metadata": {
    "ExecuteTime": {
     "end_time": "2019-05-07T15:16:46.840602Z",
     "start_time": "2019-05-07T15:16:44.677Z"
    }
   },
   "outputs": [],
   "source": [
    "Data <- readxl::read_xlsx(\"FootballData.xlsx\")"
   ]
  },
  {
   "cell_type": "code",
   "execution_count": 3,
   "metadata": {
    "ExecuteTime": {
     "end_time": "2019-05-07T15:16:46.855443Z",
     "start_time": "2019-05-07T15:16:44.680Z"
    }
   },
   "outputs": [],
   "source": [
    "names(Data) <- c(\"Club\",\"Income\",\"Country\",\"Year\",\"Position\",\"Colour\")"
   ]
  },
  {
   "cell_type": "code",
   "execution_count": 4,
   "metadata": {
    "ExecuteTime": {
     "end_time": "2019-05-07T15:16:46.867040Z",
     "start_time": "2019-05-07T15:16:44.682Z"
    }
   },
   "outputs": [],
   "source": [
    "Data$ClubYear <- paste(Data$Club, Data$Year)"
   ]
  },
  {
   "cell_type": "code",
   "execution_count": 5,
   "metadata": {
    "ExecuteTime": {
     "end_time": "2019-05-07T15:16:46.877938Z",
     "start_time": "2019-05-07T15:16:44.685Z"
    }
   },
   "outputs": [],
   "source": [
    "Data$First <- ifelse(Data$Position == 1, 1,0)"
   ]
  },
  {
   "cell_type": "code",
   "execution_count": 34,
   "metadata": {
    "ExecuteTime": {
     "end_time": "2019-05-07T15:35:04.106303Z",
     "start_time": "2019-05-07T15:35:03.027Z"
    }
   },
   "outputs": [],
   "source": [
    "Data$FirstSum <- NA\n",
    "for (i in 1:nrow(Data)){\n",
    "    temp <- Data[1:i,]\n",
    "    temp <- sum(temp$First[temp$Club==Data$Club[i]], na.rm = TRUE)\n",
    "    Data$FirstSum[i] <- as.numeric(temp)\n",
    "}"
   ]
  },
  {
   "cell_type": "code",
   "execution_count": 37,
   "metadata": {
    "ExecuteTime": {
     "end_time": "2019-05-07T15:51:27.676220Z",
     "start_time": "2019-05-07T15:51:26.642Z"
    }
   },
   "outputs": [
    {
     "data": {
      "text/html": [
       "<ol class=list-inline>\n",
       "\t<li>'Club'</li>\n",
       "\t<li>'Income'</li>\n",
       "\t<li>'Country'</li>\n",
       "\t<li>'Year'</li>\n",
       "\t<li>'Position'</li>\n",
       "\t<li>'Colour'</li>\n",
       "\t<li>'ClubYear'</li>\n",
       "\t<li>'First'</li>\n",
       "\t<li>'FirstSum'</li>\n",
       "</ol>\n"
      ],
      "text/latex": [
       "\\begin{enumerate*}\n",
       "\\item 'Club'\n",
       "\\item 'Income'\n",
       "\\item 'Country'\n",
       "\\item 'Year'\n",
       "\\item 'Position'\n",
       "\\item 'Colour'\n",
       "\\item 'ClubYear'\n",
       "\\item 'First'\n",
       "\\item 'FirstSum'\n",
       "\\end{enumerate*}\n"
      ],
      "text/markdown": [
       "1. 'Club'\n",
       "2. 'Income'\n",
       "3. 'Country'\n",
       "4. 'Year'\n",
       "5. 'Position'\n",
       "6. 'Colour'\n",
       "7. 'ClubYear'\n",
       "8. 'First'\n",
       "9. 'FirstSum'\n",
       "\n",
       "\n"
      ],
      "text/plain": [
       "[1] \"Club\"     \"Income\"   \"Country\"  \"Year\"     \"Position\" \"Colour\"   \"ClubYear\"\n",
       "[8] \"First\"    \"FirstSum\""
      ]
     },
     "metadata": {},
     "output_type": "display_data"
    }
   ],
   "source": [
    "Data <- Data %>%\n",
    "    group_by(Year) %>%\n",
    "    mutate(rank = order(order(FirstSum, Club, decreasing=TRUE)))"
   ]
  },
  {
   "cell_type": "code",
   "execution_count": 50,
   "metadata": {
    "ExecuteTime": {
     "end_time": "2019-05-07T16:06:23.964028Z",
     "start_time": "2019-05-07T16:06:22.934Z"
    }
   },
   "outputs": [],
   "source": [
    "Data2 <- Data[Data$rank < 10 & Data$FirstSum >0,]"
   ]
  },
  {
   "cell_type": "code",
   "execution_count": 51,
   "metadata": {
    "ExecuteTime": {
     "end_time": "2019-05-07T16:11:29.932104Z",
     "start_time": "2019-05-07T16:11:28.885Z"
    }
   },
   "outputs": [],
   "source": [
    "Graphs <- \n",
    "ggplot(Data2, aes(rank, group = Club))+\n",
    "geom_col(aes(y=FirstSum, color = Club, fill = Club))+\n",
    "coord_flip(clip = \"off\", expand = FALSE) +\n",
    "  scale_x_reverse() +\n",
    "  guides(color = FALSE, fill = FALSE) + #Add Watermark With Website Name\n",
    "  annotate(\n",
    "    \"text\",\n",
    "    x = -0.5,\n",
    "    y = 0,\n",
    "    label = \"www.TheDataInspector.com\",\n",
    "    #vjust = -5.5,\n",
    "      hjust = -1.5,\n",
    "    colour = \"#8D8D8D\",\n",
    "    size = 6\n",
    "  ) +\n",
    "  geom_text(\n",
    "    aes(\n",
    "      y = 0,\n",
    "      label = paste(Club, \" \"),\n",
    "        color = Club\n",
    "    ),\n",
    "    vjust = 0.2,\n",
    "    hjust = 1,\n",
    "    size = 6\n",
    "  ) + \n",
    "geom_text(\n",
    "    aes(\n",
    "      #y = max(Income) * 0.2,\n",
    "      y = 0,\n",
    "        x = -0.5,\n",
    "      label = as.character(Year),\n",
    "      fontface = 2,\n",
    "        color = Club\n",
    "    ),\n",
    "    size = 12,\n",
    "    #vjust = -2.5,\n",
    "    colour = \"#8D8D8D\",\n",
    "    check_overlap = TRUE\n",
    "  ) +\n",
    " geom_text(aes(y = FirstSum, label = as.character(FirstSum)),\n",
    "            size = 8,\n",
    "            nudge_y = 10) +\n",
    "  labs(title = \"European Football Club Revenue\")+\n",
    "  theme(\n",
    "    #Set Theme Options\n",
    "    axis.line = element_blank(),\n",
    "    axis.text.y = element_blank(),\n",
    "    axis.text.x = element_blank(),\n",
    "    axis.ticks = element_blank(),\n",
    "    axis.title = element_blank(),\n",
    "    legend.position = \"none\",\n",
    "    panel.background = element_blank(),\n",
    "    panel.border = element_blank(),\n",
    "    panel.grid.major = element_blank(),\n",
    "    panel.grid.minor = element_blank(),\n",
    "    panel.grid.major.x = element_line(size = .05, colour = \"#DBDBDB\"),\n",
    "    panel.grid.minor.x = element_line(size = .05, colour = \"#DBDBDB\"),\n",
    "    plot.title = element_text(\n",
    "      size = 30,\n",
    "      hjust = 0.5,\n",
    "      face = \"bold\",\n",
    "      colour = \"#8D8D8D\",\n",
    "      vjust = 5\n",
    "    ),\n",
    "    plot.background = element_blank(),\n",
    "    plot.margin = margin(3, 2, 2, 10, \"cm\")\n",
    "  ) + #Add Transition State Controlling Time Spent Moving And Time Spent At Data Point\n",
    "  transition_states(Year, transition_length = 10, state_length = 1) + #Control If X & Y Axis Should Scale As Data Changes\n",
    "  view_follow(fixed_x = TRUE, fixed_y = TRUE)"
   ]
  },
  {
   "cell_type": "code",
   "execution_count": 52,
   "metadata": {
    "ExecuteTime": {
     "end_time": "2019-05-07T16:13:58.932988Z",
     "start_time": "2019-05-07T16:12:55.307Z"
    }
   },
   "outputs": [
    {
     "name": "stderr",
     "output_type": "stream",
     "text": [
      "                                                                              \r"
     ]
    }
   ],
   "source": [
    "animate(Graphs, height = 750, width = 900, nframes = 200, fps = 20, renderer = gifski_renderer(\"Football.gif\"))"
   ]
  },
  {
   "cell_type": "code",
   "execution_count": 53,
   "metadata": {
    "ExecuteTime": {
     "end_time": "2019-05-07T16:40:47.730354Z",
     "start_time": "2019-05-07T16:40:46.709Z"
    }
   },
   "outputs": [],
   "source": [
    "CountryData <- unique.data.frame(Data[c(\"Country\",\"First\",\"FirstSum\")])"
   ]
  }
 ],
 "metadata": {
  "celltoolbar": "Raw Cell Format",
  "kernelspec": {
   "display_name": "R",
   "language": "R",
   "name": "ir"
  },
  "language_info": {
   "codemirror_mode": "r",
   "file_extension": ".r",
   "mimetype": "text/x-r-source",
   "name": "R",
   "pygments_lexer": "r",
   "version": "3.6.0"
  },
  "varInspector": {
   "cols": {
    "lenName": 16,
    "lenType": 16,
    "lenVar": 40
   },
   "kernels_config": {
    "python": {
     "delete_cmd_postfix": "",
     "delete_cmd_prefix": "del ",
     "library": "var_list.py",
     "varRefreshCmd": "print(var_dic_list())"
    },
    "r": {
     "delete_cmd_postfix": ") ",
     "delete_cmd_prefix": "rm(",
     "library": "var_list.r",
     "varRefreshCmd": "cat(var_dic_list()) "
    }
   },
   "types_to_exclude": [
    "module",
    "function",
    "builtin_function_or_method",
    "instance",
    "_Feature"
   ],
   "window_display": false
  }
 },
 "nbformat": 4,
 "nbformat_minor": 2
}
