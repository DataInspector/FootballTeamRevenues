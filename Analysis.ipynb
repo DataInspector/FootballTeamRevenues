{
 "cells": [
  {
   "cell_type": "markdown",
   "metadata": {},
   "source": [
    "# Import Packages"
   ]
  },
  {
   "cell_type": "code",
   "execution_count": 13,
   "metadata": {
    "ExecuteTime": {
     "end_time": "2019-05-19T18:19:35.284299Z",
     "start_time": "2019-05-19T18:19:34.908Z"
    }
   },
   "outputs": [],
   "source": [
    "library(RColorBrewer)\n",
    "library(reshape)\n",
    "library(gganimate)\n",
    "library(tidyverse)\n",
    "library(data.table)"
   ]
  },
  {
   "cell_type": "markdown",
   "metadata": {},
   "source": [
    "# Read And Prepare Data"
   ]
  },
  {
   "cell_type": "code",
   "execution_count": 3,
   "metadata": {
    "ExecuteTime": {
     "end_time": "2019-05-19T17:17:30.174368Z",
     "start_time": "2019-05-19T17:17:26.119Z"
    },
    "scrolled": true
   },
   "outputs": [
    {
     "data": {
      "text/plain": [
       "                Club         Income          Country         Year     \n",
       " Real Madrid      : 37   Min.   : 83.1   England :182   Min.   :1955  \n",
       " Bayern Munich    : 30   1st Qu.:129.4   Italy   :111   1st Qu.:1992  \n",
       " Milan            : 28   Median :172.9   Spain   : 86   Median :2009  \n",
       " Juventus         : 27   Mean   :223.7   Germany : 85   Mean   :2002  \n",
       " Manchester United: 25   3rd Qu.:263.5   France  : 41   3rd Qu.:2014  \n",
       " Barcelona        : 24   Max.   :750.9   Portugal: 20   Max.   :2019  \n",
       " (Other)          :435   NA's   :193     (Other) : 81                 \n",
       "    Position         Colour      ClubYear             temp          \n",
       " Min.   :1.000   #FEBE10: 37   Length:606         Length:606        \n",
       " 1st Qu.:1.000   #000000: 33   Class :character   Class :character  \n",
       " Median :2.500   #DC052D: 30   Mode  :character   Mode  :character  \n",
       " Mean   :2.246   #FB090B: 28                                        \n",
       " 3rd Qu.:3.000   #DA020E: 25                                        \n",
       " Max.   :3.000   #A29161: 24                                        \n",
       " NA's   :354     (Other):429                                        "
      ]
     },
     "metadata": {},
     "output_type": "display_data"
    }
   ],
   "source": [
    "Data <- read.csv(\"FootballData.csv\", fileEncoding = \"ISO-8859-1\")\n",
    "names(Data) <- c(\"Club\",\"Income\",\"Country\",\"Year\",\"Position\",\"Colour\")\n",
    "Data$ClubYear <- paste(Data$Club, Data$Year)\n",
    "Data$temp <-  paste(Data$Club,Data$Country,Data$Colour, Data$Year)\n",
    "Data <- Data[order(Data$Year, decreasing = FALSE),]\n",
    "summary(Data)"
   ]
  },
  {
   "cell_type": "code",
   "execution_count": 4,
   "metadata": {
    "ExecuteTime": {
     "end_time": "2019-05-19T17:17:30.241131Z",
     "start_time": "2019-05-19T17:17:26.127Z"
    }
   },
   "outputs": [
    {
     "data": {
      "text/html": [
       "<table>\n",
       "<caption>A data.frame: 20 × 6</caption>\n",
       "<thead>\n",
       "\t<tr><th scope=col>Club</th><th scope=col>Country</th><th scope=col>Colour</th><th scope=col>Year</th><th scope=col>Position</th><th scope=col>temp</th></tr>\n",
       "\t<tr><th scope=col>&lt;fct&gt;</th><th scope=col>&lt;fct&gt;</th><th scope=col>&lt;fct&gt;</th><th scope=col>&lt;fct&gt;</th><th scope=col>&lt;int&gt;</th><th scope=col>&lt;chr&gt;</th></tr>\n",
       "</thead>\n",
       "<tbody>\n",
       "\t<tr><td>Milan            </td><td>Italy      </td><td>#FB090B</td><td>1955</td><td> 3</td><td>Milan Italy #FB090B 1955              </td></tr>\n",
       "\t<tr><td>Real Madrid      </td><td>Spain      </td><td>#FEBE10</td><td>1955</td><td> 1</td><td>Real Madrid Spain #FEBE10 1955        </td></tr>\n",
       "\t<tr><td>Hibernian        </td><td>Scotland   </td><td>#00753b</td><td>1955</td><td> 3</td><td>Hibernian Scotland #00753b 1955       </td></tr>\n",
       "\t<tr><td>Reims            </td><td>France     </td><td>#d2232a</td><td>1955</td><td> 2</td><td>Reims France #d2232a 1955             </td></tr>\n",
       "\t<tr><td>Manchester United</td><td>England    </td><td>#DA020E</td><td>1955</td><td>NA</td><td>Manchester United England #DA020E 1955</td></tr>\n",
       "\t<tr><td>Fiorentina       </td><td>Italy      </td><td>#EC1C23</td><td>1955</td><td>NA</td><td>Fiorentina Italy #EC1C23 1955         </td></tr>\n",
       "\t<tr><td>Crvena zvezda    </td><td>Serbia     </td><td>#d90512</td><td>1955</td><td>NA</td><td>Crvena zvezda Serbia #d90512 1955     </td></tr>\n",
       "\t<tr><td>Vasas            </td><td>Hungary    </td><td>#265eb4</td><td>1955</td><td>NA</td><td>Vasas Hungary #265eb4 1955            </td></tr>\n",
       "\t<tr><td>Atlético Madrid  </td><td>Spain      </td><td>#272E61</td><td>1955</td><td>NA</td><td>Atlético Madrid Spain #272E61 1955    </td></tr>\n",
       "\t<tr><td>Young Boys       </td><td>Switzerland</td><td>#f9cc11</td><td>1955</td><td>NA</td><td>Young Boys Switzerland #f9cc11 1955   </td></tr>\n",
       "\t<tr><td>Rangers          </td><td>Scotland   </td><td>#1b458f</td><td>1955</td><td>NA</td><td>Rangers Scotland #1b458f 1955         </td></tr>\n",
       "\t<tr><td>Frankfurt        </td><td>Germany    </td><td>#E1000F</td><td>1955</td><td>NA</td><td>Frankfurt Germany #E1000F 1955        </td></tr>\n",
       "\t<tr><td>Barcelona        </td><td>Spain      </td><td>#EDBB00</td><td>1955</td><td>NA</td><td>Barcelona Spain #EDBB00 1955          </td></tr>\n",
       "\t<tr><td>Rapid Wien       </td><td>Austria    </td><td>#005081</td><td>1955</td><td>NA</td><td>Rapid Wien Austria #005081 1955       </td></tr>\n",
       "\t<tr><td>Hamburger SV     </td><td>Germany    </td><td>#0A3F86</td><td>1955</td><td>NA</td><td>Hamburger SV Germany #0A3F86 1955     </td></tr>\n",
       "\t<tr><td>Benfica          </td><td>Portugal   </td><td>#FFD400</td><td>1955</td><td>NA</td><td>Benfica Portugal #FFD400 1955         </td></tr>\n",
       "\t<tr><td>Tottenham Hotspur</td><td>England    </td><td>#001C58</td><td>1955</td><td>NA</td><td>Tottenham Hotspur England #001C58 1955</td></tr>\n",
       "\t<tr><td>Standard Liege   </td><td>Belgium    </td><td>#ff1100</td><td>1955</td><td>NA</td><td>Standard Liege Belgium #ff1100 1955   </td></tr>\n",
       "\t<tr><td>Feyenoord        </td><td>Netherlands</td><td>#e2001a</td><td>1955</td><td>NA</td><td>Feyenoord Netherlands #e2001a 1955    </td></tr>\n",
       "\t<tr><td>Internazionale   </td><td>Italy      </td><td>#A29161</td><td>1955</td><td>NA</td><td>Internazionale Italy #A29161 1955     </td></tr>\n",
       "</tbody>\n",
       "</table>\n"
      ],
      "text/latex": [
       "A data.frame: 20 × 6\n",
       "\\begin{tabular}{r|llllll}\n",
       " Club & Country & Colour & Year & Position & temp\\\\\n",
       " <fct> & <fct> & <fct> & <fct> & <int> & <chr>\\\\\n",
       "\\hline\n",
       "\t Milan             & Italy       & \\#FB090B & 1955 &  3 & Milan Italy \\#FB090B 1955              \\\\\n",
       "\t Real Madrid       & Spain       & \\#FEBE10 & 1955 &  1 & Real Madrid Spain \\#FEBE10 1955        \\\\\n",
       "\t Hibernian         & Scotland    & \\#00753b & 1955 &  3 & Hibernian Scotland \\#00753b 1955       \\\\\n",
       "\t Reims             & France      & \\#d2232a & 1955 &  2 & Reims France \\#d2232a 1955             \\\\\n",
       "\t Manchester United & England     & \\#DA020E & 1955 & NA & Manchester United England \\#DA020E 1955\\\\\n",
       "\t Fiorentina        & Italy       & \\#EC1C23 & 1955 & NA & Fiorentina Italy \\#EC1C23 1955         \\\\\n",
       "\t Crvena zvezda     & Serbia      & \\#d90512 & 1955 & NA & Crvena zvezda Serbia \\#d90512 1955     \\\\\n",
       "\t Vasas             & Hungary     & \\#265eb4 & 1955 & NA & Vasas Hungary \\#265eb4 1955            \\\\\n",
       "\t Atlético Madrid   & Spain       & \\#272E61 & 1955 & NA & Atlético Madrid Spain \\#272E61 1955    \\\\\n",
       "\t Young Boys        & Switzerland & \\#f9cc11 & 1955 & NA & Young Boys Switzerland \\#f9cc11 1955   \\\\\n",
       "\t Rangers           & Scotland    & \\#1b458f & 1955 & NA & Rangers Scotland \\#1b458f 1955         \\\\\n",
       "\t Frankfurt         & Germany     & \\#E1000F & 1955 & NA & Frankfurt Germany \\#E1000F 1955        \\\\\n",
       "\t Barcelona         & Spain       & \\#EDBB00 & 1955 & NA & Barcelona Spain \\#EDBB00 1955          \\\\\n",
       "\t Rapid Wien        & Austria     & \\#005081 & 1955 & NA & Rapid Wien Austria \\#005081 1955       \\\\\n",
       "\t Hamburger SV      & Germany     & \\#0A3F86 & 1955 & NA & Hamburger SV Germany \\#0A3F86 1955     \\\\\n",
       "\t Benfica           & Portugal    & \\#FFD400 & 1955 & NA & Benfica Portugal \\#FFD400 1955         \\\\\n",
       "\t Tottenham Hotspur & England     & \\#001C58 & 1955 & NA & Tottenham Hotspur England \\#001C58 1955\\\\\n",
       "\t Standard Liege    & Belgium     & \\#ff1100 & 1955 & NA & Standard Liege Belgium \\#ff1100 1955   \\\\\n",
       "\t Feyenoord         & Netherlands & \\#e2001a & 1955 & NA & Feyenoord Netherlands \\#e2001a 1955    \\\\\n",
       "\t Internazionale    & Italy       & \\#A29161 & 1955 & NA & Internazionale Italy \\#A29161 1955     \\\\\n",
       "\\end{tabular}\n"
      ],
      "text/markdown": [
       "\n",
       "A data.frame: 20 × 6\n",
       "\n",
       "| Club &lt;fct&gt; | Country &lt;fct&gt; | Colour &lt;fct&gt; | Year &lt;fct&gt; | Position &lt;int&gt; | temp &lt;chr&gt; |\n",
       "|---|---|---|---|---|---|\n",
       "| Milan             | Italy       | #FB090B | 1955 |  3 | Milan Italy #FB090B 1955               |\n",
       "| Real Madrid       | Spain       | #FEBE10 | 1955 |  1 | Real Madrid Spain #FEBE10 1955         |\n",
       "| Hibernian         | Scotland    | #00753b | 1955 |  3 | Hibernian Scotland #00753b 1955        |\n",
       "| Reims             | France      | #d2232a | 1955 |  2 | Reims France #d2232a 1955              |\n",
       "| Manchester United | England     | #DA020E | 1955 | NA | Manchester United England #DA020E 1955 |\n",
       "| Fiorentina        | Italy       | #EC1C23 | 1955 | NA | Fiorentina Italy #EC1C23 1955          |\n",
       "| Crvena zvezda     | Serbia      | #d90512 | 1955 | NA | Crvena zvezda Serbia #d90512 1955      |\n",
       "| Vasas             | Hungary     | #265eb4 | 1955 | NA | Vasas Hungary #265eb4 1955             |\n",
       "| Atlético Madrid   | Spain       | #272E61 | 1955 | NA | Atlético Madrid Spain #272E61 1955     |\n",
       "| Young Boys        | Switzerland | #f9cc11 | 1955 | NA | Young Boys Switzerland #f9cc11 1955    |\n",
       "| Rangers           | Scotland    | #1b458f | 1955 | NA | Rangers Scotland #1b458f 1955          |\n",
       "| Frankfurt         | Germany     | #E1000F | 1955 | NA | Frankfurt Germany #E1000F 1955         |\n",
       "| Barcelona         | Spain       | #EDBB00 | 1955 | NA | Barcelona Spain #EDBB00 1955           |\n",
       "| Rapid Wien        | Austria     | #005081 | 1955 | NA | Rapid Wien Austria #005081 1955        |\n",
       "| Hamburger SV      | Germany     | #0A3F86 | 1955 | NA | Hamburger SV Germany #0A3F86 1955      |\n",
       "| Benfica           | Portugal    | #FFD400 | 1955 | NA | Benfica Portugal #FFD400 1955          |\n",
       "| Tottenham Hotspur | England     | #001C58 | 1955 | NA | Tottenham Hotspur England #001C58 1955 |\n",
       "| Standard Liege    | Belgium     | #ff1100 | 1955 | NA | Standard Liege Belgium #ff1100 1955    |\n",
       "| Feyenoord         | Netherlands | #e2001a | 1955 | NA | Feyenoord Netherlands #e2001a 1955     |\n",
       "| Internazionale    | Italy       | #A29161 | 1955 | NA | Internazionale Italy #A29161 1955      |\n",
       "\n"
      ],
      "text/plain": [
       "   Club              Country     Colour  Year Position\n",
       "1  Milan             Italy       #FB090B 1955  3      \n",
       "2  Real Madrid       Spain       #FEBE10 1955  1      \n",
       "3  Hibernian         Scotland    #00753b 1955  3      \n",
       "4  Reims             France      #d2232a 1955  2      \n",
       "5  Manchester United England     #DA020E 1955 NA      \n",
       "6  Fiorentina        Italy       #EC1C23 1955 NA      \n",
       "7  Crvena zvezda     Serbia      #d90512 1955 NA      \n",
       "8  Vasas             Hungary     #265eb4 1955 NA      \n",
       "9  Atlético Madrid   Spain       #272E61 1955 NA      \n",
       "10 Young Boys        Switzerland #f9cc11 1955 NA      \n",
       "11 Rangers           Scotland    #1b458f 1955 NA      \n",
       "12 Frankfurt         Germany     #E1000F 1955 NA      \n",
       "13 Barcelona         Spain       #EDBB00 1955 NA      \n",
       "14 Rapid Wien        Austria     #005081 1955 NA      \n",
       "15 Hamburger SV      Germany     #0A3F86 1955 NA      \n",
       "16 Benfica           Portugal    #FFD400 1955 NA      \n",
       "17 Tottenham Hotspur England     #001C58 1955 NA      \n",
       "18 Standard Liege    Belgium     #ff1100 1955 NA      \n",
       "19 Feyenoord         Netherlands #e2001a 1955 NA      \n",
       "20 Internazionale    Italy       #A29161 1955 NA      \n",
       "   temp                                  \n",
       "1  Milan Italy #FB090B 1955              \n",
       "2  Real Madrid Spain #FEBE10 1955        \n",
       "3  Hibernian Scotland #00753b 1955       \n",
       "4  Reims France #d2232a 1955             \n",
       "5  Manchester United England #DA020E 1955\n",
       "6  Fiorentina Italy #EC1C23 1955         \n",
       "7  Crvena zvezda Serbia #d90512 1955     \n",
       "8  Vasas Hungary #265eb4 1955            \n",
       "9  Atlético Madrid Spain #272E61 1955    \n",
       "10 Young Boys Switzerland #f9cc11 1955   \n",
       "11 Rangers Scotland #1b458f 1955         \n",
       "12 Frankfurt Germany #E1000F 1955        \n",
       "13 Barcelona Spain #EDBB00 1955          \n",
       "14 Rapid Wien Austria #005081 1955       \n",
       "15 Hamburger SV Germany #0A3F86 1955     \n",
       "16 Benfica Portugal #FFD400 1955         \n",
       "17 Tottenham Hotspur England #001C58 1955\n",
       "18 Standard Liege Belgium #ff1100 1955   \n",
       "19 Feyenoord Netherlands #e2001a 1955    \n",
       "20 Internazionale Italy #A29161 1955     "
      ]
     },
     "metadata": {},
     "output_type": "display_data"
    }
   ],
   "source": [
    "Dataset <- Data\n",
    "Dataset <- unique.data.frame(Data[c(\"Club\",\"Country\",\"Colour\")])\n",
    "Dataset[as.character(unique(Data$Year))] <- 0\n",
    "Dataset <- melt(Dataset, id = c(\"Club\",\"Country\",\"Colour\"))\n",
    "names(Dataset)[4:5] <- c(\"Year\",\"Position\")\n",
    "Dataset$temp <- paste(Dataset$Club,Dataset$Country,Dataset$Colour,Dataset$Year)\n",
    "Dataset$Position <- Data$Position[match(Dataset$temp, Data$temp)]\n",
    "head(Dataset,20)\n",
    "\n",
    "#for (i in 1:nrow(Dataset)){\n",
    "#    temp <- Dataset[1:i,]\n",
    "#    temp <- sum(temp$InCriteria[temp$Club==Dataset$Club[i]], na.rm = TRUE)\n",
    "#    Dataset$Sum[i] <- as.numeric(temp)\n",
    "#    }\n",
    "#Dataset <- Dataset %>%\n",
    "#    group_by(Year) %>%\n",
    "#    mutate(Rank = order(order(Sum, Club, decreasing=TRUE)))\n",
    "#Dataset <- Dataset[Dataset$Rank < 10,]\n",
    "#head(Dataset,50)"
   ]
  },
  {
   "cell_type": "markdown",
   "metadata": {
    "ExecuteTime": {
     "end_time": "2019-05-18T14:16:03.007752Z",
     "start_time": "2019-05-18T14:16:00.633Z"
    }
   },
   "source": [
    "# Define Function For Creating Ranked Datasets"
   ]
  },
  {
   "cell_type": "code",
   "execution_count": 5,
   "metadata": {
    "ExecuteTime": {
     "end_time": "2019-05-19T17:17:30.253123Z",
     "start_time": "2019-05-19T17:17:26.130Z"
    }
   },
   "outputs": [],
   "source": [
    "PrepareData <- function(Dataset, PositionNumber){\n",
    "    Dataset$InCriteria <- ifelse(Dataset$Position <= PositionNumber, 1,0)\n",
    "    Dataset$Sum <- NA\n",
    "    for (i in 1:nrow(Dataset)){\n",
    "        temp <- Dataset[1:i,]\n",
    "        temp <- sum(temp$InCriteria[temp$Club==Dataset$Club[i]], na.rm = TRUE)\n",
    "        Dataset$Sum[i] <- as.numeric(temp)\n",
    "        }\n",
    "    Dataset <- Dataset %>%\n",
    "        group_by(Year) %>%\n",
    "        mutate(Rank = order(order(Sum, Club, decreasing=TRUE)))\n",
    "    Dataset <- Dataset[Dataset$Rank < 20 & Dataset$Sum >0,]\n",
    "    return(Dataset)\n",
    "    }"
   ]
  },
  {
   "cell_type": "markdown",
   "metadata": {},
   "source": [
    "# Define Function To Create Colour Scheme"
   ]
  },
  {
   "cell_type": "code",
   "execution_count": null,
   "metadata": {},
   "outputs": [],
   "source": []
  },
  {
   "cell_type": "markdown",
   "metadata": {},
   "source": [
    "# Run Function To Produce Data For Winners, Reached Finals, Semis"
   ]
  },
  {
   "cell_type": "code",
   "execution_count": 6,
   "metadata": {
    "ExecuteTime": {
     "end_time": "2019-05-19T17:17:39.352810Z",
     "start_time": "2019-05-19T17:17:26.134Z"
    }
   },
   "outputs": [],
   "source": [
    "FirstPlaceData <- PrepareData(Dataset, 1)\n",
    "FinalsData <- PrepareData(Dataset, 2)\n",
    "SemisData <- PrepareData(Dataset, 3)"
   ]
  },
  {
   "cell_type": "markdown",
   "metadata": {},
   "source": [
    "# Define Function For Animated Graphs Showing Rank"
   ]
  },
  {
   "cell_type": "code",
   "execution_count": 10,
   "metadata": {
    "ExecuteTime": {
     "end_time": "2019-05-19T18:17:33.554662Z",
     "start_time": "2019-05-19T18:17:33.193Z"
    }
   },
   "outputs": [],
   "source": [
    "CreateGraph <- function(Dataset){\n",
    "    ggplot(Dataset, aes(Rank, group = Club))+\n",
    "    geom_col(aes(y=Sum, color = Colour, fill = Club))+\n",
    "    coord_flip(clip = \"off\", expand = FALSE) +\n",
    "      scale_x_reverse() +\n",
    "      guides(color = FALSE, fill = FALSE) + #Add Watermark With Website Name\n",
    "      annotate(\n",
    "        \"text\",\n",
    "        x = -0.5,\n",
    "        y = 0,\n",
    "        label = \"www.TheDataInspector.com\",\n",
    "        #vjust = -5.5,\n",
    "          hjust = -1.5,\n",
    "        colour = \"#8D8D8D\",\n",
    "        size = 6\n",
    "      ) +\n",
    "      geom_text(\n",
    "        aes(\n",
    "          y = 0,\n",
    "          label = paste(Club, \" \"),\n",
    "            color = Club\n",
    "        ),\n",
    "        vjust = 0.2,\n",
    "        hjust = 1,\n",
    "        size = 6\n",
    "      ) + \n",
    "    geom_text(\n",
    "        aes(\n",
    "          #y = max(Income) * 0.2,\n",
    "          y = 0,\n",
    "            x = -0.5,\n",
    "          label = as.character(Year),\n",
    "          fontface = 2,\n",
    "            color = Club\n",
    "        ),\n",
    "        size = 12,\n",
    "        #vjust = -2.5,\n",
    "        colour = \"#8D8D8D\",\n",
    "        check_overlap = TRUE\n",
    "      ) +\n",
    "     geom_text(aes(y = Sum, label = as.character(Sum)),\n",
    "                size = 8,\n",
    "                nudge_y = 10) +\n",
    "      labs(title = paste(\"Champions League Ranking\"))+\n",
    "      theme(\n",
    "        #Set Theme Options\n",
    "        axis.line = element_blank(),\n",
    "        axis.text.y = element_blank(),\n",
    "        axis.text.x = element_blank(),\n",
    "        axis.ticks = element_blank(),\n",
    "        axis.title = element_blank(),\n",
    "        legend.position = \"none\",\n",
    "        panel.background = element_blank(),\n",
    "        panel.border = element_blank(),\n",
    "        panel.grid.major = element_blank(),\n",
    "        panel.grid.minor = element_blank(),\n",
    "        panel.grid.major.x = element_line(size = .05, colour = \"#DBDBDB\"),\n",
    "        panel.grid.minor.x = element_line(size = .05, colour = \"#DBDBDB\"),\n",
    "        plot.title = element_text(\n",
    "          size = 30,\n",
    "          hjust = 0.5,\n",
    "          face = \"bold\",\n",
    "          colour = \"#8D8D8D\",\n",
    "          vjust = 5\n",
    "        ),\n",
    "        plot.background = element_blank(),\n",
    "        plot.margin = margin(3, 2, 2, 10, \"cm\")\n",
    "      ) + #Add Transition State Controlling Time Spent Moving And Time Spent At Data Point\n",
    "      transition_states(Year, transition_length = 10, state_length = 10) + #Control If X & Y Axis Should Scale As Data Changes\n",
    "      view_follow(fixed_x = TRUE, fixed_y = TRUE)\n",
    "    }"
   ]
  },
  {
   "cell_type": "markdown",
   "metadata": {},
   "source": [
    "# Run Function With Different Datasets"
   ]
  },
  {
   "cell_type": "code",
   "execution_count": 11,
   "metadata": {
    "ExecuteTime": {
     "end_time": "2019-05-19T18:18:33.509146Z",
     "start_time": "2019-05-19T18:17:34.640Z"
    }
   },
   "outputs": [
    {
     "name": "stderr",
     "output_type": "stream",
     "text": [
      "                                                                              \r"
     ]
    }
   ],
   "source": [
    "animate(CreateGraph(FirstPlaceData), height = 750, width = 900, nframes = 200, fps = 40, renderer = gifski_renderer(\"FirstPlace.gif\"))\n",
    "#animate(CreateGraph(FinalsData), height = 750, width = 900, nframes =2000, fps = 40, renderer = gifski_renderer(\"Finals.gif\"))\n",
    "#animate(CreateGraph(SemisData), height = 750, width = 900, nframes = 2000, fps = 40, renderer = gifski_renderer(\"Semis.gif\"))"
   ]
  }
 ],
 "metadata": {
  "celltoolbar": "Raw Cell Format",
  "kernelspec": {
   "display_name": "R",
   "language": "R",
   "name": "ir"
  },
  "language_info": {
   "codemirror_mode": "r",
   "file_extension": ".r",
   "mimetype": "text/x-r-source",
   "name": "R",
   "pygments_lexer": "r",
   "version": "3.6.0"
  },
  "varInspector": {
   "cols": {
    "lenName": 16,
    "lenType": 16,
    "lenVar": 40
   },
   "kernels_config": {
    "python": {
     "delete_cmd_postfix": "",
     "delete_cmd_prefix": "del ",
     "library": "var_list.py",
     "varRefreshCmd": "print(var_dic_list())"
    },
    "r": {
     "delete_cmd_postfix": ") ",
     "delete_cmd_prefix": "rm(",
     "library": "var_list.r",
     "varRefreshCmd": "cat(var_dic_list()) "
    }
   },
   "types_to_exclude": [
    "module",
    "function",
    "builtin_function_or_method",
    "instance",
    "_Feature"
   ],
   "window_display": false
  }
 },
 "nbformat": 4,
 "nbformat_minor": 2
}
