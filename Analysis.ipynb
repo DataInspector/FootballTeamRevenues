{
 "cells": [
  {
   "cell_type": "markdown",
   "metadata": {},
   "source": [
    "# Import Packages"
   ]
  },
  {
   "cell_type": "code",
   "execution_count": 29,
   "metadata": {
    "ExecuteTime": {
     "end_time": "2019-05-18T20:08:50.611343Z",
     "start_time": "2019-05-18T20:08:48.359Z"
    }
   },
   "outputs": [],
   "source": [
    "library(gganimate)\n",
    "library(tidyverse)"
   ]
  },
  {
   "cell_type": "markdown",
   "metadata": {},
   "source": [
    "# Read And Prepare Data"
   ]
  },
  {
   "cell_type": "code",
   "execution_count": 30,
   "metadata": {
    "ExecuteTime": {
     "end_time": "2019-05-18T20:08:53.259906Z",
     "start_time": "2019-05-18T20:08:50.994Z"
    }
   },
   "outputs": [
    {
     "data": {
      "text/plain": [
       "     Club               Income        Country               Year     \n",
       " Length:422         Min.   : 83.1   Length:422         Min.   :2002  \n",
       " Class :character   1st Qu.:129.4   Class :character   1st Qu.:2008  \n",
       " Mode  :character   Median :172.9   Mode  :character   Median :2013  \n",
       "                    Mean   :223.7                      Mean   :2012  \n",
       "                    3rd Qu.:263.5                      3rd Qu.:2016  \n",
       "                    Max.   :750.9                      Max.   :2019  \n",
       "                    NA's   :9                                        \n",
       "    Position        Colour            ClubYear        \n",
       " Min.   :1.000   Length:422         Length:422        \n",
       " 1st Qu.:1.000   Class :character   Class :character  \n",
       " Median :2.500   Mode  :character   Mode  :character  \n",
       " Mean   :2.235                                        \n",
       " 3rd Qu.:3.000                                        \n",
       " Max.   :3.000                                        \n",
       " NA's   :354                                          "
      ]
     },
     "metadata": {},
     "output_type": "display_data"
    }
   ],
   "source": [
    "Data <- readxl::read_xlsx(\"FootballData.xlsx\")\n",
    "names(Data) <- c(\"Club\",\"Income\",\"Country\",\"Year\",\"Position\",\"Colour\")\n",
    "Data$ClubYear <- paste(Data$Club, Data$Year)\n",
    "summary(Data)"
   ]
  },
  {
   "cell_type": "markdown",
   "metadata": {
    "ExecuteTime": {
     "end_time": "2019-05-18T14:16:03.007752Z",
     "start_time": "2019-05-18T14:16:00.633Z"
    }
   },
   "source": [
    "# Add Columns For First Place & Create Dataset"
   ]
  },
  {
   "cell_type": "code",
   "execution_count": 24,
   "metadata": {
    "ExecuteTime": {
     "end_time": "2019-05-18T14:29:35.148930Z",
     "start_time": "2019-05-18T14:29:32.731Z"
    }
   },
   "outputs": [
    {
     "data": {
      "text/html": [
       "<table>\n",
       "<caption>A tibble: 6 × 10</caption>\n",
       "<thead>\n",
       "\t<tr><th scope=col>Club</th><th scope=col>Income</th><th scope=col>Country</th><th scope=col>Year</th><th scope=col>Position</th><th scope=col>Colour</th><th scope=col>ClubYear</th><th scope=col>First</th><th scope=col>FirstSum</th><th scope=col>FirstRank</th></tr>\n",
       "\t<tr><th scope=col>&lt;chr&gt;</th><th scope=col>&lt;dbl&gt;</th><th scope=col>&lt;chr&gt;</th><th scope=col>&lt;dbl&gt;</th><th scope=col>&lt;dbl&gt;</th><th scope=col>&lt;chr&gt;</th><th scope=col>&lt;chr&gt;</th><th scope=col>&lt;dbl&gt;</th><th scope=col>&lt;dbl&gt;</th><th scope=col>&lt;int&gt;</th></tr>\n",
       "</thead>\n",
       "<tbody>\n",
       "\t<tr><td>Real Madrid</td><td>138.2</td><td>Spain   </td><td>2002</td><td> 1</td><td>#FEBE10</td><td>Real Madrid 2002</td><td> 1</td><td>1</td><td>1</td></tr>\n",
       "\t<tr><td>Milan      </td><td>159.1</td><td>Italy   </td><td>2003</td><td> 1</td><td>#FB090B</td><td>Milan 2003      </td><td> 1</td><td>1</td><td>2</td></tr>\n",
       "\t<tr><td>Real Madrid</td><td>152.2</td><td>Spain   </td><td>2003</td><td> 3</td><td>#FEBE10</td><td>Real Madrid 2003</td><td> 0</td><td>1</td><td>1</td></tr>\n",
       "\t<tr><td>Milan      </td><td>200.4</td><td>Italy   </td><td>2004</td><td>NA</td><td>#FB090B</td><td>Milan 2004      </td><td>NA</td><td>1</td><td>3</td></tr>\n",
       "\t<tr><td>Real Madrid</td><td>193.7</td><td>Spain   </td><td>2004</td><td>NA</td><td>#FEBE10</td><td>Real Madrid 2004</td><td>NA</td><td>1</td><td>1</td></tr>\n",
       "\t<tr><td>Porto      </td><td>   NA</td><td>Portugal</td><td>2004</td><td> 1</td><td>#0072B6</td><td>Porto 2004      </td><td> 1</td><td>1</td><td>2</td></tr>\n",
       "</tbody>\n",
       "</table>\n"
      ],
      "text/latex": [
       "A tibble: 6 × 10\n",
       "\\begin{tabular}{r|llllllllll}\n",
       " Club & Income & Country & Year & Position & Colour & ClubYear & First & FirstSum & FirstRank\\\\\n",
       " <chr> & <dbl> & <chr> & <dbl> & <dbl> & <chr> & <chr> & <dbl> & <dbl> & <int>\\\\\n",
       "\\hline\n",
       "\t Real Madrid & 138.2 & Spain    & 2002 &  1 & \\#FEBE10 & Real Madrid 2002 &  1 & 1 & 1\\\\\n",
       "\t Milan       & 159.1 & Italy    & 2003 &  1 & \\#FB090B & Milan 2003       &  1 & 1 & 2\\\\\n",
       "\t Real Madrid & 152.2 & Spain    & 2003 &  3 & \\#FEBE10 & Real Madrid 2003 &  0 & 1 & 1\\\\\n",
       "\t Milan       & 200.4 & Italy    & 2004 & NA & \\#FB090B & Milan 2004       & NA & 1 & 3\\\\\n",
       "\t Real Madrid & 193.7 & Spain    & 2004 & NA & \\#FEBE10 & Real Madrid 2004 & NA & 1 & 1\\\\\n",
       "\t Porto       &    NA & Portugal & 2004 &  1 & \\#0072B6 & Porto 2004       &  1 & 1 & 2\\\\\n",
       "\\end{tabular}\n"
      ],
      "text/markdown": [
       "\n",
       "A tibble: 6 × 10\n",
       "\n",
       "| Club &lt;chr&gt; | Income &lt;dbl&gt; | Country &lt;chr&gt; | Year &lt;dbl&gt; | Position &lt;dbl&gt; | Colour &lt;chr&gt; | ClubYear &lt;chr&gt; | First &lt;dbl&gt; | FirstSum &lt;dbl&gt; | FirstRank &lt;int&gt; |\n",
       "|---|---|---|---|---|---|---|---|---|---|\n",
       "| Real Madrid | 138.2 | Spain    | 2002 |  1 | #FEBE10 | Real Madrid 2002 |  1 | 1 | 1 |\n",
       "| Milan       | 159.1 | Italy    | 2003 |  1 | #FB090B | Milan 2003       |  1 | 1 | 2 |\n",
       "| Real Madrid | 152.2 | Spain    | 2003 |  3 | #FEBE10 | Real Madrid 2003 |  0 | 1 | 1 |\n",
       "| Milan       | 200.4 | Italy    | 2004 | NA | #FB090B | Milan 2004       | NA | 1 | 3 |\n",
       "| Real Madrid | 193.7 | Spain    | 2004 | NA | #FEBE10 | Real Madrid 2004 | NA | 1 | 1 |\n",
       "| Porto       |    NA | Portugal | 2004 |  1 | #0072B6 | Porto 2004       |  1 | 1 | 2 |\n",
       "\n"
      ],
      "text/plain": [
       "  Club        Income Country  Year Position Colour  ClubYear         First\n",
       "1 Real Madrid 138.2  Spain    2002  1       #FEBE10 Real Madrid 2002  1   \n",
       "2 Milan       159.1  Italy    2003  1       #FB090B Milan 2003        1   \n",
       "3 Real Madrid 152.2  Spain    2003  3       #FEBE10 Real Madrid 2003  0   \n",
       "4 Milan       200.4  Italy    2004 NA       #FB090B Milan 2004       NA   \n",
       "5 Real Madrid 193.7  Spain    2004 NA       #FEBE10 Real Madrid 2004 NA   \n",
       "6 Porto          NA  Portugal 2004  1       #0072B6 Porto 2004        1   \n",
       "  FirstSum FirstRank\n",
       "1 1        1        \n",
       "2 1        2        \n",
       "3 1        1        \n",
       "4 1        3        \n",
       "5 1        1        \n",
       "6 1        2        "
      ]
     },
     "metadata": {},
     "output_type": "display_data"
    }
   ],
   "source": [
    "DataFirst <- Data\n",
    "DataFirst$First <- ifelse(DataFirst$Position == 1, 1,0)\n",
    "DataFirst$FirstSum <- NA\n",
    "for (i in 1:nrow(DataFirst)){\n",
    "    temp <- DataFirst[1:i,]\n",
    "    temp <- sum(temp$First[temp$Club==DataFirst$Club[i]], na.rm = TRUE)\n",
    "    DataFirst$FirstSum[i] <- as.numeric(temp)\n",
    "    }\n",
    "DataFirst <- DataFirst %>%\n",
    "    group_by(Year) %>%\n",
    "    mutate(FirstRank = order(order(FirstSum, Club, decreasing=TRUE)))\n",
    "DataFirst <- DataFirst[DataFirst$FirstRank < 10 & DataFirst$FirstSum >0,]\n",
    "head(DataFirst)"
   ]
  },
  {
   "cell_type": "markdown",
   "metadata": {
    "ExecuteTime": {
     "end_time": "2019-05-18T14:16:03.007752Z",
     "start_time": "2019-05-18T14:16:00.633Z"
    }
   },
   "source": [
    "# Add Columns For Reached Finals & Create Dataset"
   ]
  },
  {
   "cell_type": "code",
   "execution_count": 25,
   "metadata": {
    "ExecuteTime": {
     "end_time": "2019-05-18T14:31:47.053605Z",
     "start_time": "2019-05-18T14:31:44.634Z"
    }
   },
   "outputs": [
    {
     "data": {
      "text/html": [
       "<table>\n",
       "<caption>A tibble: 6 × 10</caption>\n",
       "<thead>\n",
       "\t<tr><th scope=col>Club</th><th scope=col>Income</th><th scope=col>Country</th><th scope=col>Year</th><th scope=col>Position</th><th scope=col>Colour</th><th scope=col>ClubYear</th><th scope=col>Finals</th><th scope=col>FinalsSum</th><th scope=col>FinalsRank</th></tr>\n",
       "\t<tr><th scope=col>&lt;chr&gt;</th><th scope=col>&lt;dbl&gt;</th><th scope=col>&lt;chr&gt;</th><th scope=col>&lt;dbl&gt;</th><th scope=col>&lt;dbl&gt;</th><th scope=col>&lt;chr&gt;</th><th scope=col>&lt;chr&gt;</th><th scope=col>&lt;dbl&gt;</th><th scope=col>&lt;dbl&gt;</th><th scope=col>&lt;int&gt;</th></tr>\n",
       "</thead>\n",
       "<tbody>\n",
       "\t<tr><td>Real Madrid</td><td>138.2</td><td>Spain   </td><td>2002</td><td> 1</td><td>#FEBE10</td><td>Real Madrid 2002</td><td> 1</td><td>1</td><td>1</td></tr>\n",
       "\t<tr><td>Milan      </td><td>159.1</td><td>Italy   </td><td>2003</td><td> 1</td><td>#FB090B</td><td>Milan 2003      </td><td> 1</td><td>1</td><td>2</td></tr>\n",
       "\t<tr><td>Real Madrid</td><td>152.2</td><td>Spain   </td><td>2003</td><td> 3</td><td>#FEBE10</td><td>Real Madrid 2003</td><td> 0</td><td>1</td><td>1</td></tr>\n",
       "\t<tr><td>Milan      </td><td>200.4</td><td>Italy   </td><td>2004</td><td>NA</td><td>#FB090B</td><td>Milan 2004      </td><td>NA</td><td>1</td><td>3</td></tr>\n",
       "\t<tr><td>Real Madrid</td><td>193.7</td><td>Spain   </td><td>2004</td><td>NA</td><td>#FEBE10</td><td>Real Madrid 2004</td><td>NA</td><td>1</td><td>1</td></tr>\n",
       "\t<tr><td>Porto      </td><td>   NA</td><td>Portugal</td><td>2004</td><td> 1</td><td>#0072B6</td><td>Porto 2004      </td><td> 1</td><td>1</td><td>2</td></tr>\n",
       "</tbody>\n",
       "</table>\n"
      ],
      "text/latex": [
       "A tibble: 6 × 10\n",
       "\\begin{tabular}{r|llllllllll}\n",
       " Club & Income & Country & Year & Position & Colour & ClubYear & Finals & FinalsSum & FinalsRank\\\\\n",
       " <chr> & <dbl> & <chr> & <dbl> & <dbl> & <chr> & <chr> & <dbl> & <dbl> & <int>\\\\\n",
       "\\hline\n",
       "\t Real Madrid & 138.2 & Spain    & 2002 &  1 & \\#FEBE10 & Real Madrid 2002 &  1 & 1 & 1\\\\\n",
       "\t Milan       & 159.1 & Italy    & 2003 &  1 & \\#FB090B & Milan 2003       &  1 & 1 & 2\\\\\n",
       "\t Real Madrid & 152.2 & Spain    & 2003 &  3 & \\#FEBE10 & Real Madrid 2003 &  0 & 1 & 1\\\\\n",
       "\t Milan       & 200.4 & Italy    & 2004 & NA & \\#FB090B & Milan 2004       & NA & 1 & 3\\\\\n",
       "\t Real Madrid & 193.7 & Spain    & 2004 & NA & \\#FEBE10 & Real Madrid 2004 & NA & 1 & 1\\\\\n",
       "\t Porto       &    NA & Portugal & 2004 &  1 & \\#0072B6 & Porto 2004       &  1 & 1 & 2\\\\\n",
       "\\end{tabular}\n"
      ],
      "text/markdown": [
       "\n",
       "A tibble: 6 × 10\n",
       "\n",
       "| Club &lt;chr&gt; | Income &lt;dbl&gt; | Country &lt;chr&gt; | Year &lt;dbl&gt; | Position &lt;dbl&gt; | Colour &lt;chr&gt; | ClubYear &lt;chr&gt; | Finals &lt;dbl&gt; | FinalsSum &lt;dbl&gt; | FinalsRank &lt;int&gt; |\n",
       "|---|---|---|---|---|---|---|---|---|---|\n",
       "| Real Madrid | 138.2 | Spain    | 2002 |  1 | #FEBE10 | Real Madrid 2002 |  1 | 1 | 1 |\n",
       "| Milan       | 159.1 | Italy    | 2003 |  1 | #FB090B | Milan 2003       |  1 | 1 | 2 |\n",
       "| Real Madrid | 152.2 | Spain    | 2003 |  3 | #FEBE10 | Real Madrid 2003 |  0 | 1 | 1 |\n",
       "| Milan       | 200.4 | Italy    | 2004 | NA | #FB090B | Milan 2004       | NA | 1 | 3 |\n",
       "| Real Madrid | 193.7 | Spain    | 2004 | NA | #FEBE10 | Real Madrid 2004 | NA | 1 | 1 |\n",
       "| Porto       |    NA | Portugal | 2004 |  1 | #0072B6 | Porto 2004       |  1 | 1 | 2 |\n",
       "\n"
      ],
      "text/plain": [
       "  Club        Income Country  Year Position Colour  ClubYear         Finals\n",
       "1 Real Madrid 138.2  Spain    2002  1       #FEBE10 Real Madrid 2002  1    \n",
       "2 Milan       159.1  Italy    2003  1       #FB090B Milan 2003        1    \n",
       "3 Real Madrid 152.2  Spain    2003  3       #FEBE10 Real Madrid 2003  0    \n",
       "4 Milan       200.4  Italy    2004 NA       #FB090B Milan 2004       NA    \n",
       "5 Real Madrid 193.7  Spain    2004 NA       #FEBE10 Real Madrid 2004 NA    \n",
       "6 Porto          NA  Portugal 2004  1       #0072B6 Porto 2004        1    \n",
       "  FinalsSum FinalsRank\n",
       "1 1         1         \n",
       "2 1         2         \n",
       "3 1         1         \n",
       "4 1         3         \n",
       "5 1         1         \n",
       "6 1         2         "
      ]
     },
     "metadata": {},
     "output_type": "display_data"
    }
   ],
   "source": [
    "DataFinals <- Data\n",
    "DataFinals$Finals <- ifelse(DataFinals$Position == 1, 1,0)\n",
    "DataFinals$FinalsSum <- NA\n",
    "for (i in 1:nrow(DataFinals)){\n",
    "    temp <- DataFinals[1:i,]\n",
    "    temp <- sum(temp$Finals[temp$Club==DataFinals$Club[i]], na.rm = TRUE)\n",
    "    DataFinals$FinalsSum[i] <- as.numeric(temp)\n",
    "    }\n",
    "DataFinals <- DataFinals %>%\n",
    "    group_by(Year) %>%\n",
    "    mutate(FinalsRank = order(order(FinalsSum, Club, decreasing=TRUE)))\n",
    "DataFinals <- DataFinals[DataFinals$FinalsRank < 10 & DataFinals$FinalsSum >0,]\n",
    "head(DataFinals)"
   ]
  },
  {
   "cell_type": "markdown",
   "metadata": {
    "ExecuteTime": {
     "end_time": "2019-05-18T14:16:03.007752Z",
     "start_time": "2019-05-18T14:16:00.633Z"
    }
   },
   "source": [
    "# Add Columns For Reached Semis & Create Dataset"
   ]
  },
  {
   "cell_type": "code",
   "execution_count": 26,
   "metadata": {
    "ExecuteTime": {
     "end_time": "2019-05-18T14:32:43.822691Z",
     "start_time": "2019-05-18T14:32:41.403Z"
    }
   },
   "outputs": [
    {
     "data": {
      "text/html": [
       "<table>\n",
       "<caption>A tibble: 6 × 10</caption>\n",
       "<thead>\n",
       "\t<tr><th scope=col>Club</th><th scope=col>Income</th><th scope=col>Country</th><th scope=col>Year</th><th scope=col>Position</th><th scope=col>Colour</th><th scope=col>ClubYear</th><th scope=col>Semis</th><th scope=col>SemisSum</th><th scope=col>SemisRank</th></tr>\n",
       "\t<tr><th scope=col>&lt;chr&gt;</th><th scope=col>&lt;dbl&gt;</th><th scope=col>&lt;chr&gt;</th><th scope=col>&lt;dbl&gt;</th><th scope=col>&lt;dbl&gt;</th><th scope=col>&lt;chr&gt;</th><th scope=col>&lt;chr&gt;</th><th scope=col>&lt;dbl&gt;</th><th scope=col>&lt;dbl&gt;</th><th scope=col>&lt;int&gt;</th></tr>\n",
       "</thead>\n",
       "<tbody>\n",
       "\t<tr><td>Real Madrid</td><td>138.2</td><td>Spain   </td><td>2002</td><td> 1</td><td>#FEBE10</td><td>Real Madrid 2002</td><td> 1</td><td>1</td><td>1</td></tr>\n",
       "\t<tr><td>Milan      </td><td>159.1</td><td>Italy   </td><td>2003</td><td> 1</td><td>#FB090B</td><td>Milan 2003      </td><td> 1</td><td>1</td><td>2</td></tr>\n",
       "\t<tr><td>Real Madrid</td><td>152.2</td><td>Spain   </td><td>2003</td><td> 3</td><td>#FEBE10</td><td>Real Madrid 2003</td><td> 0</td><td>1</td><td>1</td></tr>\n",
       "\t<tr><td>Milan      </td><td>200.4</td><td>Italy   </td><td>2004</td><td>NA</td><td>#FB090B</td><td>Milan 2004      </td><td>NA</td><td>1</td><td>3</td></tr>\n",
       "\t<tr><td>Real Madrid</td><td>193.7</td><td>Spain   </td><td>2004</td><td>NA</td><td>#FEBE10</td><td>Real Madrid 2004</td><td>NA</td><td>1</td><td>1</td></tr>\n",
       "\t<tr><td>Porto      </td><td>   NA</td><td>Portugal</td><td>2004</td><td> 1</td><td>#0072B6</td><td>Porto 2004      </td><td> 1</td><td>1</td><td>2</td></tr>\n",
       "</tbody>\n",
       "</table>\n"
      ],
      "text/latex": [
       "A tibble: 6 × 10\n",
       "\\begin{tabular}{r|llllllllll}\n",
       " Club & Income & Country & Year & Position & Colour & ClubYear & Semis & SemisSum & SemisRank\\\\\n",
       " <chr> & <dbl> & <chr> & <dbl> & <dbl> & <chr> & <chr> & <dbl> & <dbl> & <int>\\\\\n",
       "\\hline\n",
       "\t Real Madrid & 138.2 & Spain    & 2002 &  1 & \\#FEBE10 & Real Madrid 2002 &  1 & 1 & 1\\\\\n",
       "\t Milan       & 159.1 & Italy    & 2003 &  1 & \\#FB090B & Milan 2003       &  1 & 1 & 2\\\\\n",
       "\t Real Madrid & 152.2 & Spain    & 2003 &  3 & \\#FEBE10 & Real Madrid 2003 &  0 & 1 & 1\\\\\n",
       "\t Milan       & 200.4 & Italy    & 2004 & NA & \\#FB090B & Milan 2004       & NA & 1 & 3\\\\\n",
       "\t Real Madrid & 193.7 & Spain    & 2004 & NA & \\#FEBE10 & Real Madrid 2004 & NA & 1 & 1\\\\\n",
       "\t Porto       &    NA & Portugal & 2004 &  1 & \\#0072B6 & Porto 2004       &  1 & 1 & 2\\\\\n",
       "\\end{tabular}\n"
      ],
      "text/markdown": [
       "\n",
       "A tibble: 6 × 10\n",
       "\n",
       "| Club &lt;chr&gt; | Income &lt;dbl&gt; | Country &lt;chr&gt; | Year &lt;dbl&gt; | Position &lt;dbl&gt; | Colour &lt;chr&gt; | ClubYear &lt;chr&gt; | Semis &lt;dbl&gt; | SemisSum &lt;dbl&gt; | SemisRank &lt;int&gt; |\n",
       "|---|---|---|---|---|---|---|---|---|---|\n",
       "| Real Madrid | 138.2 | Spain    | 2002 |  1 | #FEBE10 | Real Madrid 2002 |  1 | 1 | 1 |\n",
       "| Milan       | 159.1 | Italy    | 2003 |  1 | #FB090B | Milan 2003       |  1 | 1 | 2 |\n",
       "| Real Madrid | 152.2 | Spain    | 2003 |  3 | #FEBE10 | Real Madrid 2003 |  0 | 1 | 1 |\n",
       "| Milan       | 200.4 | Italy    | 2004 | NA | #FB090B | Milan 2004       | NA | 1 | 3 |\n",
       "| Real Madrid | 193.7 | Spain    | 2004 | NA | #FEBE10 | Real Madrid 2004 | NA | 1 | 1 |\n",
       "| Porto       |    NA | Portugal | 2004 |  1 | #0072B6 | Porto 2004       |  1 | 1 | 2 |\n",
       "\n"
      ],
      "text/plain": [
       "  Club        Income Country  Year Position Colour  ClubYear         Semis\n",
       "1 Real Madrid 138.2  Spain    2002  1       #FEBE10 Real Madrid 2002  1   \n",
       "2 Milan       159.1  Italy    2003  1       #FB090B Milan 2003        1   \n",
       "3 Real Madrid 152.2  Spain    2003  3       #FEBE10 Real Madrid 2003  0   \n",
       "4 Milan       200.4  Italy    2004 NA       #FB090B Milan 2004       NA   \n",
       "5 Real Madrid 193.7  Spain    2004 NA       #FEBE10 Real Madrid 2004 NA   \n",
       "6 Porto          NA  Portugal 2004  1       #0072B6 Porto 2004        1   \n",
       "  SemisSum SemisRank\n",
       "1 1        1        \n",
       "2 1        2        \n",
       "3 1        1        \n",
       "4 1        3        \n",
       "5 1        1        \n",
       "6 1        2        "
      ]
     },
     "metadata": {},
     "output_type": "display_data"
    }
   ],
   "source": [
    "DataSemis <- Data\n",
    "DataSemis$Semis <- ifelse(DataSemis$Position == 1, 1,0)\n",
    "DataSemis$SemisSum <- NA\n",
    "for (i in 1:nrow(DataSemis)){\n",
    "    temp <- DataSemis[1:i,]\n",
    "    temp <- sum(temp$Semis[temp$Club==DataSemis$Club[i]], na.rm = TRUE)\n",
    "    DataSemis$SemisSum[i] <- as.numeric(temp)\n",
    "    }\n",
    "DataSemis <- DataSemis %>%\n",
    "    group_by(Year) %>%\n",
    "    mutate(SemisRank = order(order(SemisSum, Club, decreasing=TRUE)))\n",
    "DataSemis <- DataSemis[DataSemis$SemisRank < 10 & DataSemis$SemisSum >0,]\n",
    "head(DataSemis)"
   ]
  },
  {
   "cell_type": "markdown",
   "metadata": {},
   "source": [
    "# Animated Graphs"
   ]
  },
  {
   "cell_type": "code",
   "execution_count": 27,
   "metadata": {
    "ExecuteTime": {
     "end_time": "2019-05-18T20:05:02.705965Z",
     "start_time": "2019-05-18T20:05:00.424Z"
    }
   },
   "outputs": [],
   "source": [
    "Graphs <- \n",
    "ggplot(DataFirst, aes(FirstRank, group = Club))+\n",
    "geom_col(aes(y=FirstSum, color = Club, fill = Club))+\n",
    "coord_flip(clip = \"off\", expand = FALSE) +\n",
    "  scale_x_reverse() +\n",
    "  guides(color = FALSE, fill = FALSE) + #Add Watermark With Website Name\n",
    "  annotate(\n",
    "    \"text\",\n",
    "    x = -0.5,\n",
    "    y = 0,\n",
    "    label = \"www.TheDataInspector.com\",\n",
    "    #vjust = -5.5,\n",
    "      hjust = -1.5,\n",
    "    colour = \"#8D8D8D\",\n",
    "    size = 6\n",
    "  ) +\n",
    "  geom_text(\n",
    "    aes(\n",
    "      y = 0,\n",
    "      label = paste(Club, \" \"),\n",
    "        color = Club\n",
    "    ),\n",
    "    vjust = 0.2,\n",
    "    hjust = 1,\n",
    "    size = 6\n",
    "  ) + \n",
    "geom_text(\n",
    "    aes(\n",
    "      #y = max(Income) * 0.2,\n",
    "      y = 0,\n",
    "        x = -0.5,\n",
    "      label = as.character(Year),\n",
    "      fontface = 2,\n",
    "        color = Club\n",
    "    ),\n",
    "    size = 12,\n",
    "    #vjust = -2.5,\n",
    "    colour = \"#8D8D8D\",\n",
    "    check_overlap = TRUE\n",
    "  ) +\n",
    " geom_text(aes(y = FirstSum, label = as.character(FirstSum)),\n",
    "            size = 8,\n",
    "            nudge_y = 10) +\n",
    "  labs(title = \"European Football Club Revenue\")+\n",
    "  theme(\n",
    "    #Set Theme Options\n",
    "    axis.line = element_blank(),\n",
    "    axis.text.y = element_blank(),\n",
    "    axis.text.x = element_blank(),\n",
    "    axis.ticks = element_blank(),\n",
    "    axis.title = element_blank(),\n",
    "    legend.position = \"none\",\n",
    "    panel.background = element_blank(),\n",
    "    panel.border = element_blank(),\n",
    "    panel.grid.major = element_blank(),\n",
    "    panel.grid.minor = element_blank(),\n",
    "    panel.grid.major.x = element_line(size = .05, colour = \"#DBDBDB\"),\n",
    "    panel.grid.minor.x = element_line(size = .05, colour = \"#DBDBDB\"),\n",
    "    plot.title = element_text(\n",
    "      size = 30,\n",
    "      hjust = 0.5,\n",
    "      face = \"bold\",\n",
    "      colour = \"#8D8D8D\",\n",
    "      vjust = 5\n",
    "    ),\n",
    "    plot.background = element_blank(),\n",
    "    plot.margin = margin(3, 2, 2, 10, \"cm\")\n",
    "  ) + #Add Transition State Controlling Time Spent Moving And Time Spent At Data Point\n",
    "  transition_states(Year, transition_length = 10, state_length = 1) + #Control If X & Y Axis Should Scale As Data Changes\n",
    "  view_follow(fixed_x = TRUE, fixed_y = TRUE)"
   ]
  },
  {
   "cell_type": "code",
   "execution_count": 28,
   "metadata": {
    "ExecuteTime": {
     "end_time": "2019-05-18T20:06:07.482324Z",
     "start_time": "2019-05-18T20:05:04.447Z"
    }
   },
   "outputs": [
    {
     "name": "stderr",
     "output_type": "stream",
     "text": [
      "                                                                              \r"
     ]
    }
   ],
   "source": [
    "animate(Graphs, height = 750, width = 900, nframes = 200, fps = 20, renderer = gifski_renderer(\"Football.gif\"))"
   ]
  }
 ],
 "metadata": {
  "celltoolbar": "Raw Cell Format",
  "kernelspec": {
   "display_name": "R",
   "language": "R",
   "name": "ir"
  },
  "language_info": {
   "codemirror_mode": "r",
   "file_extension": ".r",
   "mimetype": "text/x-r-source",
   "name": "R",
   "pygments_lexer": "r",
   "version": "3.6.0"
  },
  "varInspector": {
   "cols": {
    "lenName": 16,
    "lenType": 16,
    "lenVar": 40
   },
   "kernels_config": {
    "python": {
     "delete_cmd_postfix": "",
     "delete_cmd_prefix": "del ",
     "library": "var_list.py",
     "varRefreshCmd": "print(var_dic_list())"
    },
    "r": {
     "delete_cmd_postfix": ") ",
     "delete_cmd_prefix": "rm(",
     "library": "var_list.r",
     "varRefreshCmd": "cat(var_dic_list()) "
    }
   },
   "types_to_exclude": [
    "module",
    "function",
    "builtin_function_or_method",
    "instance",
    "_Feature"
   ],
   "window_display": false
  }
 },
 "nbformat": 4,
 "nbformat_minor": 2
}
